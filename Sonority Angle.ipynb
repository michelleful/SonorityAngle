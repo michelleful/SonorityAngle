{
 "metadata": {
  "name": "Sonority Angle"
 },
 "nbformat": 3,
 "nbformat_minor": 0,
 "worksheets": [
  {
   "cells": [
    {
     "cell_type": "markdown",
     "metadata": {},
     "source": [
      "This notebook allows you to experiment with the Sonority Angle metric and other sonority-related metrics that have been proposed in the literature. "
     ]
    },
    {
     "cell_type": "markdown",
     "metadata": {},
     "source": [
      "First we need to have a sonority scale mapping consonants and vowels to different levels of sonority. I adopt the following basic scale in the paper:"
     ]
    },
    {
     "cell_type": "code",
     "collapsed": false,
     "input": [
      "SONORITY = {\n",
      "    'T': 1.0,   # voiceless stops\n",
      "    'D': 1.5, # voiced stops - set to 1 for Chaha, 1.5 for Irish\n",
      "    'F': 2.0,   # fricatives\n",
      "    'N': 3.0,   # nasals\n",
      "    'R': 4.0,   # liquids\n",
      "    'G': 5.0,   # glides\n",
      "    'V': 6.0,   # vowels\n",
      "}"
     ],
     "language": "python",
     "metadata": {},
     "outputs": [],
     "prompt_number": 1
    },
    {
     "cell_type": "markdown",
     "metadata": {},
     "source": [
      "Sonority Angle is the angle formed by the underlying sonority contour C$_1$-C$_2$ and the surface sonority contour C$_1$-V. It's computed as follows:"
     ]
    },
    {
     "cell_type": "code",
     "collapsed": false,
     "input": [
      "import math\n",
      "def sonority_angle(C1, C2):\n",
      "    return math.atan(SONORITY['V']-SONORITY[C1])-math.atan(SONORITY[C2]-SONORITY[C1])"
     ],
     "language": "python",
     "metadata": {},
     "outputs": [],
     "prompt_number": 2
    },
    {
     "cell_type": "code",
     "collapsed": false,
     "input": [
      "# Resulting hierarchy of clusters sorted according to sonority angle - \n",
      "# the larger the sonority angle, the more resistant it will be to epenthesis\n",
      "\n",
      "import operator\n",
      "sonority_classes = ['T','F','N','R']\n",
      "sonangles = {C1+C2: sonority_angle(C1,C2) for C1 in sonority_classes for C2 in sonority_classes}\n",
      "for k, v in sorted(sonangles.items(), key=operator.itemgetter(1)):\n",
      "    print k, \"\\t\", v"
     ],
     "language": "python",
     "metadata": {},
     "outputs": [
      {
       "output_type": "stream",
       "stream": "stdout",
       "text": [
        "TR \t0.124354994547\n",
        "FR \t0.218668945874\n",
        "TN \t0.266252049151\n",
        "NR \t0.463647609001\n",
        "FN \t0.540419500271\n",
        "TF \t0.588002603548\n",
        "RR \t1.10714871779\n",
        "NN \t1.2490457724\n",
        "FF \t1.32581766367\n",
        "TT \t1.37340076695\n",
        "RN \t1.89254688119\n",
        "NF \t2.0344439358\n",
        "FT \t2.11121582707\n",
        "RF \t2.21429743559\n",
        "RT \t2.35619449019\n",
        "NT \t2.35619449019\n"
       ]
      }
     ],
     "prompt_number": 3
    },
    {
     "cell_type": "markdown",
     "metadata": {},
     "source": [
      "The Sonority Angle metric captures two insights: the more steeply falling the underlying sonority contour, the harder it is to epenthesise -- this is the insight of traditional markedness-based accounts of sonority-driven epenthesis such as Syllable Contact. In addition, however, I claim that the more sonorous the C1, the more likely the cluster to undergo epenthesis."
     ]
    },
    {
     "cell_type": "markdown",
     "metadata": {},
     "source": [
      "For instance, out of the falling sonority clusters, we expect the ones that fall by one step -- RN, NF and FT -- to be the most likely to epenthesis. On top of that, however, we expect that RN is the most likely to epenthesise. This is intuitively true if you picture the amount of \"swivelling around\" that the contour has to do to transform from C$_1$-C$_2$ to C$_1$-V. Looking at the cluster hierarchy, we see that RN (1.89) indeed has the smallest sonority angle out of all the falling sonority clusters.\n",
      "\n",
      "In the paper, I demonstrate that Chaha (Southern Semitic; Ethiopia) shows just this pattern. RN is unique out of the falling sonority clusters in (optionally) undergoing epenthesis in coda clusters, joining all the level and rising sonority clusters."
     ]
    },
    {
     "cell_type": "markdown",
     "metadata": {},
     "source": [
      "[ ] TODO: RT/NT argument\n",
      "\n",
      "[ ] TODO: Intro to SonRise"
     ]
    },
    {
     "cell_type": "code",
     "collapsed": false,
     "input": [
      "# SonRise\n",
      "\n",
      "def sonority_rise(C1, C2):\n",
      "    return 1 - ((SONORITY[C2]-SONORITY[C1])/(SONORITY['V']-SONORITY[C1]))"
     ],
     "language": "python",
     "metadata": {},
     "outputs": [],
     "prompt_number": 4
    },
    {
     "cell_type": "code",
     "collapsed": false,
     "input": [
      "sonrises = {C1+C2: sonority_rise(C1,C2) for C1 in sonority_classes for C2 in sonority_classes}\n",
      "for k, v in sorted(sonrises.items(), key=operator.itemgetter(1)):\n",
      "    print k, \"\\t\", v"
     ],
     "language": "python",
     "metadata": {},
     "outputs": [
      {
       "output_type": "stream",
       "stream": "stdout",
       "text": [
        "TR \t0.4\n",
        "FR \t0.5\n",
        "TN \t0.6\n",
        "NR \t0.666666666667\n",
        "FN \t0.75\n",
        "TF \t0.8\n",
        "RR \t1.0\n",
        "NN \t1.0\n",
        "TT \t1.0\n",
        "FF \t1.0\n",
        "FT \t1.25\n",
        "NF \t1.33333333333\n",
        "RN \t1.5\n",
        "NT \t1.66666666667\n",
        "RF \t2.0\n",
        "RT \t2.5\n"
       ]
      }
     ],
     "prompt_number": 5
    }
   ],
   "metadata": {}
  }
 ]
}