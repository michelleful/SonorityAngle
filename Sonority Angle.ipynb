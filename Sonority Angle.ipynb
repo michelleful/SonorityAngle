{
 "metadata": {
  "name": "Sonority Angle"
 },
 "nbformat": 3,
 "nbformat_minor": 0,
 "worksheets": [
  {
   "cells": [
    {
     "cell_type": "markdown",
     "metadata": {},
     "source": [
      "This notebook allows you to experiment with the Sonority Angle metric and other sonority-related metrics that have been proposed in the literature. "
     ]
    },
    {
     "cell_type": "markdown",
     "metadata": {},
     "source": [
      "First we need to have a sonority scale mapping consonants and vowels to different levels of sonority. I adopt the following basic scale in the paper:"
     ]
    },
    {
     "cell_type": "code",
     "collapsed": false,
     "input": [
      "SONORITY = {\n",
      "    'T': 1,   # voiceless stops\n",
      "    'D': 1.5, # voiced stops - set to 1 for Chaha, 1.5 for Irish\n",
      "    'F': 2,   # fricatives\n",
      "    'N': 3,   # nasals\n",
      "    'R': 4,   # liquids\n",
      "    'G': 5,   # glides\n",
      "    'V': 6,   # vowels\n",
      "}"
     ],
     "language": "python",
     "metadata": {},
     "outputs": [],
     "prompt_number": 1
    },
    {
     "cell_type": "code",
     "collapsed": false,
     "input": [],
     "language": "python",
     "metadata": {},
     "outputs": []
    }
   ],
   "metadata": {}
  }
 ]
}