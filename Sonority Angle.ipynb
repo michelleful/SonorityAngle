{
 "metadata": {
  "name": "Sonority Angle"
 },
 "nbformat": 3,
 "nbformat_minor": 0,
 "worksheets": [
  {
   "cells": [
    {
     "cell_type": "markdown",
     "metadata": {},
     "source": [
      "This notebook allows you to experiment with the Sonority Angle metric and other sonority-related metrics that have been proposed in the literature. "
     ]
    },
    {
     "cell_type": "markdown",
     "metadata": {},
     "source": [
      "First we need to have a sonority scale mapping consonants and vowels to different levels of sonority. I adopt the following basic scale in the paper:"
     ]
    },
    {
     "cell_type": "code",
     "collapsed": false,
     "input": [
      "SONORITY = {\n",
      "    'T': 1.0,   # voiceless stops\n",
      "    'D': 1.5, # voiced stops - set to 1 for Chaha, 1.5 for Irish\n",
      "    'F': 2.0,   # fricatives\n",
      "    'N': 3.0,   # nasals\n",
      "    'R': 4.0,   # liquids\n",
      "    'G': 5.0,   # glides\n",
      "    'V': 6.0,   # vowels\n",
      "}"
     ],
     "language": "python",
     "metadata": {},
     "outputs": [],
     "prompt_number": 26
    },
    {
     "cell_type": "markdown",
     "metadata": {},
     "source": [
      "Sonority Angle is the angle formed by the underlying sonority contour C$_1$-C$_2$ and the surface sonority contour C$_1$-V. It's computed as follows:"
     ]
    },
    {
     "cell_type": "code",
     "collapsed": false,
     "input": [
      "import math\n",
      "def sonority_angle(C1, C2):\n",
      "    return math.atan(SONORITY['V']-SONORITY[C1])-math.atan(SONORITY[C2]-SONORITY[C1])"
     ],
     "language": "python",
     "metadata": {},
     "outputs": [],
     "prompt_number": 27
    },
    {
     "cell_type": "code",
     "collapsed": false,
     "input": [
      "# Resulting hierarchy of clusters sorted according to sonority angle - \n",
      "# the larger the sonority angle, the more resistant it will be to epenthesis\n",
      "\n",
      "import operator\n",
      "sonority_classes = ['T','F','N','R']\n",
      "sonangles = {C1+C2: sonority_angle(C1,C2) for C1 in sonority_classes for C2 in sonority_classes}\n",
      "for k, v in sorted(sonangles.items(), key=operator.itemgetter(1)):\n",
      "    print k, \"\\t\", v"
     ],
     "language": "python",
     "metadata": {},
     "outputs": [
      {
       "ename": "NameError",
       "evalue": "global name 'sonority_angle' is not defined",
       "output_type": "pyerr",
       "traceback": [
        "\u001b[0;31m---------------------------------------------------------------------------\u001b[0m\n\u001b[0;31mNameError\u001b[0m                                 Traceback (most recent call last)",
        "\u001b[0;32m<ipython-input-1-7b01f39dbbdb>\u001b[0m in \u001b[0;36m<module>\u001b[0;34m()\u001b[0m\n\u001b[1;32m      4\u001b[0m \u001b[0;32mimport\u001b[0m \u001b[0moperator\u001b[0m\u001b[0;34m\u001b[0m\u001b[0m\n\u001b[1;32m      5\u001b[0m \u001b[0msonority_classes\u001b[0m \u001b[0;34m=\u001b[0m \u001b[0;34m[\u001b[0m\u001b[0;34m'T'\u001b[0m\u001b[0;34m,\u001b[0m\u001b[0;34m'F'\u001b[0m\u001b[0;34m,\u001b[0m\u001b[0;34m'N'\u001b[0m\u001b[0;34m,\u001b[0m\u001b[0;34m'R'\u001b[0m\u001b[0;34m]\u001b[0m\u001b[0;34m\u001b[0m\u001b[0m\n\u001b[0;32m----> 6\u001b[0;31m \u001b[0msonangles\u001b[0m \u001b[0;34m=\u001b[0m \u001b[0;34m{\u001b[0m\u001b[0mC1\u001b[0m\u001b[0;34m+\u001b[0m\u001b[0mC2\u001b[0m\u001b[0;34m:\u001b[0m \u001b[0msonority_angle\u001b[0m\u001b[0;34m(\u001b[0m\u001b[0mC1\u001b[0m\u001b[0;34m,\u001b[0m\u001b[0mC2\u001b[0m\u001b[0;34m)\u001b[0m \u001b[0;32mfor\u001b[0m \u001b[0mC1\u001b[0m \u001b[0;32min\u001b[0m \u001b[0msonority_classes\u001b[0m \u001b[0;32mfor\u001b[0m \u001b[0mC2\u001b[0m \u001b[0;32min\u001b[0m \u001b[0msonority_classes\u001b[0m\u001b[0;34m}\u001b[0m\u001b[0;34m\u001b[0m\u001b[0m\n\u001b[0m\u001b[1;32m      7\u001b[0m \u001b[0msonangles\u001b[0m\u001b[0;34m[\u001b[0m\u001b[0;34m'GF'\u001b[0m\u001b[0;34m]\u001b[0m \u001b[0;34m=\u001b[0m \u001b[0msonority_angle\u001b[0m\u001b[0;34m(\u001b[0m\u001b[0;34m'G'\u001b[0m\u001b[0;34m,\u001b[0m\u001b[0;34m'F'\u001b[0m\u001b[0;34m)\u001b[0m \u001b[0;31m# wzif\u001b[0m\u001b[0;34m\u001b[0m\u001b[0m\n\u001b[1;32m      8\u001b[0m \u001b[0;32mfor\u001b[0m \u001b[0mk\u001b[0m\u001b[0;34m,\u001b[0m \u001b[0mv\u001b[0m \u001b[0;32min\u001b[0m \u001b[0msorted\u001b[0m\u001b[0;34m(\u001b[0m\u001b[0msonangles\u001b[0m\u001b[0;34m.\u001b[0m\u001b[0mitems\u001b[0m\u001b[0;34m(\u001b[0m\u001b[0;34m)\u001b[0m\u001b[0;34m,\u001b[0m \u001b[0mkey\u001b[0m\u001b[0;34m=\u001b[0m\u001b[0moperator\u001b[0m\u001b[0;34m.\u001b[0m\u001b[0mitemgetter\u001b[0m\u001b[0;34m(\u001b[0m\u001b[0;36m1\u001b[0m\u001b[0;34m)\u001b[0m\u001b[0;34m)\u001b[0m\u001b[0;34m:\u001b[0m\u001b[0;34m\u001b[0m\u001b[0m\n",
        "\u001b[0;32m<ipython-input-1-7b01f39dbbdb>\u001b[0m in \u001b[0;36m<dictcomp>\u001b[0;34m((C1,))\u001b[0m\n\u001b[1;32m      4\u001b[0m \u001b[0;32mimport\u001b[0m \u001b[0moperator\u001b[0m\u001b[0;34m\u001b[0m\u001b[0m\n\u001b[1;32m      5\u001b[0m \u001b[0msonority_classes\u001b[0m \u001b[0;34m=\u001b[0m \u001b[0;34m[\u001b[0m\u001b[0;34m'T'\u001b[0m\u001b[0;34m,\u001b[0m\u001b[0;34m'F'\u001b[0m\u001b[0;34m,\u001b[0m\u001b[0;34m'N'\u001b[0m\u001b[0;34m,\u001b[0m\u001b[0;34m'R'\u001b[0m\u001b[0;34m]\u001b[0m\u001b[0;34m\u001b[0m\u001b[0m\n\u001b[0;32m----> 6\u001b[0;31m \u001b[0msonangles\u001b[0m \u001b[0;34m=\u001b[0m \u001b[0;34m{\u001b[0m\u001b[0mC1\u001b[0m\u001b[0;34m+\u001b[0m\u001b[0mC2\u001b[0m\u001b[0;34m:\u001b[0m \u001b[0msonority_angle\u001b[0m\u001b[0;34m(\u001b[0m\u001b[0mC1\u001b[0m\u001b[0;34m,\u001b[0m\u001b[0mC2\u001b[0m\u001b[0;34m)\u001b[0m \u001b[0;32mfor\u001b[0m \u001b[0mC1\u001b[0m \u001b[0;32min\u001b[0m \u001b[0msonority_classes\u001b[0m \u001b[0;32mfor\u001b[0m \u001b[0mC2\u001b[0m \u001b[0;32min\u001b[0m \u001b[0msonority_classes\u001b[0m\u001b[0;34m}\u001b[0m\u001b[0;34m\u001b[0m\u001b[0m\n\u001b[0m\u001b[1;32m      7\u001b[0m \u001b[0msonangles\u001b[0m\u001b[0;34m[\u001b[0m\u001b[0;34m'GF'\u001b[0m\u001b[0;34m]\u001b[0m \u001b[0;34m=\u001b[0m \u001b[0msonority_angle\u001b[0m\u001b[0;34m(\u001b[0m\u001b[0;34m'G'\u001b[0m\u001b[0;34m,\u001b[0m\u001b[0;34m'F'\u001b[0m\u001b[0;34m)\u001b[0m \u001b[0;31m# wzif\u001b[0m\u001b[0;34m\u001b[0m\u001b[0m\n\u001b[1;32m      8\u001b[0m \u001b[0;32mfor\u001b[0m \u001b[0mk\u001b[0m\u001b[0;34m,\u001b[0m \u001b[0mv\u001b[0m \u001b[0;32min\u001b[0m \u001b[0msorted\u001b[0m\u001b[0;34m(\u001b[0m\u001b[0msonangles\u001b[0m\u001b[0;34m.\u001b[0m\u001b[0mitems\u001b[0m\u001b[0;34m(\u001b[0m\u001b[0;34m)\u001b[0m\u001b[0;34m,\u001b[0m \u001b[0mkey\u001b[0m\u001b[0;34m=\u001b[0m\u001b[0moperator\u001b[0m\u001b[0;34m.\u001b[0m\u001b[0mitemgetter\u001b[0m\u001b[0;34m(\u001b[0m\u001b[0;36m1\u001b[0m\u001b[0;34m)\u001b[0m\u001b[0;34m)\u001b[0m\u001b[0;34m:\u001b[0m\u001b[0;34m\u001b[0m\u001b[0m\n",
        "\u001b[0;31mNameError\u001b[0m: global name 'sonority_angle' is not defined"
       ]
      }
     ],
     "prompt_number": 1
    },
    {
     "cell_type": "markdown",
     "metadata": {},
     "source": [
      "The Sonority Angle metric captures two insights: the more steeply falling the underlying sonority contour, the harder it is to epenthesise -- this is the insight of traditional markedness-based accounts of sonority-driven epenthesis such as Syllable Contact. In addition, however, I claim that the more sonorous the C1, the more likely the cluster to undergo epenthesis."
     ]
    },
    {
     "cell_type": "markdown",
     "metadata": {},
     "source": [
      "For instance, out of the falling sonority clusters, we expect the ones that fall by one step -- RN, NF and FT -- to be the most likely to epenthesis. On top of that, however, we expect that RN is the most likely to epenthesise. This is intuitively true if you picture the amount of \"swivelling around\" that the contour has to do to transform from C$_1$-C$_2$ to C$_1$-V. Looking at the cluster hierarchy, we see that RN (1.89) indeed has the smallest sonority angle out of all the falling sonority clusters.\n",
      "\n",
      "In the paper, I demonstrate that Chaha (Southern Semitic; Ethiopia) shows just this pattern. RN is unique out of the falling sonority clusters in (optionally) undergoing epenthesis in coda clusters, joining all the level and rising sonority clusters."
     ]
    },
    {
     "cell_type": "markdown",
     "metadata": {},
     "source": [
      "[ ] TODO: RT/NT argument\n",
      "\n",
      "[ ] TODO: Intro to SonRise"
     ]
    },
    {
     "cell_type": "code",
     "collapsed": false,
     "input": [
      "# SonRise\n",
      "\n",
      "def sonority_rise(C1, C2):\n",
      "    return 1 - ((SONORITY[C2]-SONORITY[C1])/(SONORITY['V']-SONORITY[C1]))"
     ],
     "language": "python",
     "metadata": {},
     "outputs": [],
     "prompt_number": 29
    },
    {
     "cell_type": "code",
     "collapsed": false,
     "input": [
      "sonrises = {C1+C2: sonority_rise(C1,C2) for C1 in sonority_classes for C2 in sonority_classes}\n",
      "for k, v in sorted(sonrises.items(), key=operator.itemgetter(1)):\n",
      "    print k, \"\\t\", v"
     ],
     "language": "python",
     "metadata": {},
     "outputs": [
      {
       "output_type": "stream",
       "stream": "stdout",
       "text": [
        "TR \t0.4\n",
        "FR \t0.5\n",
        "TN \t0.6\n",
        "NR \t0.666666666667\n",
        "FN \t0.75\n",
        "TF \t0.8\n",
        "RR \t1.0\n",
        "NN \t1.0\n",
        "TT \t1.0\n",
        "FF \t1.0\n",
        "FT \t1.25\n",
        "NF \t1.33333333333\n",
        "RN \t1.5\n",
        "NT \t1.66666666667\n",
        "RF \t2.0\n",
        "RT \t2.5\n"
       ]
      }
     ],
     "prompt_number": 30
    }
   ],
   "metadata": {}
  }
 ]
}